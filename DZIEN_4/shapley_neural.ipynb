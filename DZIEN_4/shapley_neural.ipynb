{
 "cells":[
  {
   "cell_type":"code",
   "source":[
    "import tensorflow as tf\n",
    "import numpy as np\n",
    "import shap\n",
    "from sklearn.datasets import load_iris\n",
    "from sklearn.model_selection import train_test_split"
   ],
   "execution_count":1,
   "outputs":[],
   "metadata":{
    "datalore":{
     "node_id":"wrCtD4G5ZWfnA6iMEK10PQ",
     "type":"CODE",
     "hide_input_from_viewers":true,
     "hide_output_from_viewers":true
    }
   }
  },
  {
   "cell_type":"code",
   "source":[
    "#pobranie danych ze zbioru\n",
    "iris = load_iris()\n",
    "X,y = iris.data, iris.target"
   ],
   "execution_count":2,
   "outputs":[],
   "metadata":{
    "datalore":{
     "node_id":"UXJSYwgKlR1MT04FrHXFrq",
     "type":"CODE",
     "hide_input_from_viewers":true,
     "hide_output_from_viewers":true
    }
   }
  },
  {
   "cell_type":"code",
   "source":[
    "X_train,X_test,y_train,y_test = train_test_split(X,y,test_size=0.2,random_state=42)"
   ],
   "execution_count":3,
   "outputs":[],
   "metadata":{
    "datalore":{
     "node_id":"62IvPrkUPQtMfM2pw8hZvR",
     "type":"CODE",
     "hide_input_from_viewers":true,
     "hide_output_from_viewers":true
    }
   }
  },
  {
   "cell_type":"code",
   "source":[
    "#utworzenie modelu\n",
    "model = tf.keras.Sequential([\n",
    "    tf.keras.layers.Dense(10,activation='relu',input_shape=(4,)),\n",
    "    tf.keras.layers.Dense(3,activation='softmax')\n",
    "])\n",
    "\n",
    "model.compile(optimizer='adam',\n",
    "              loss='sparse_categorical_crossentropy',\n",
    "              metrics=['accuracy'])"
   ],
   "execution_count":4,
   "outputs":[],
   "metadata":{
    "datalore":{
     "node_id":"XG8EqqZKIajJhibjRo8IpL",
     "type":"CODE",
     "hide_input_from_viewers":true,
     "hide_output_from_viewers":true
    }
   }
  },
  {
   "cell_type":"code",
   "source":[
    "explainer = shap.DeepExplainer(model,X_train)"
   ],
   "execution_count":5,
   "outputs":[
    {
     "name":"stderr",
     "text":[
      "Your TensorFlow version is newer than 2.4.0 and so graph support has been removed in eager mode and some static graphs may not be supported. See PR #1483 for discussion.\n"
     ],
     "output_type":"stream"
    }
   ],
   "metadata":{
    "datalore":{
     "node_id":"FF3rngEsLuJTXxOeW6JBFS",
     "type":"CODE",
     "hide_input_from_viewers":true,
     "hide_output_from_viewers":true
    }
   }
  },
  {
   "cell_type":"code",
   "source":[
    "shap_values = explainer.shap_values(X_test)"
   ],
   "execution_count":6,
   "outputs":[
    {
     "name":"stdout",
     "text":[
      "WARNING:tensorflow:From \/opt\/python\/envs\/default\/lib\/python3.8\/site-packages\/tensorflow\/python\/autograph\/pyct\/static_analysis\/liveness.py:83: Analyzer.lamba_check (from tensorflow.python.autograph.pyct.static_analysis.liveness) is deprecated and will be removed after 2023-09-23.\n",
      "Instructions for updating:\n",
      "Lambda fuctions will be no more assumed to be used in the statement where they are used, or at least in the same block. https:\/\/github.com\/tensorflow\/tensorflow\/issues\/56089\n"
     ],
     "output_type":"stream"
    },
    {
     "name":"stderr",
     "text":[
      "`tf.keras.backend.set_learning_phase` is deprecated and will be removed after 2020-10-11. To update it, simply pass a True\/False value to the `training` argument of the `__call__` method of your layer or model.\n"
     ],
     "output_type":"stream"
    }
   ],
   "metadata":{
    "datalore":{
     "node_id":"IHaZd4hiUYJbISOoONnnj3",
     "type":"CODE",
     "hide_input_from_viewers":true,
     "hide_output_from_viewers":true
    }
   }
  },
  {
   "cell_type":"code",
   "source":[
    "shap.summary_plot(shap_values,X_test)"
   ],
   "execution_count":7,
   "outputs":[
    {
     "data":{
      "image\/png":"[encoded data removed]"
     },
     "metadata":{
      "image\/png":{}
     },
     "output_type":"display_data"
    }
   ],
   "metadata":{
    "datalore":{
     "node_id":"ufIvPIEAuFZBpILrGZEGof",
     "type":"CODE",
     "hide_input_from_viewers":true,
     "hide_output_from_viewers":true
    }
   }
  }
 ],
 "metadata":{
  "kernelspec":{
   "display_name":"Python",
   "language":"python",
   "name":"python"
  },
  "datalore":{
   "computation_mode":"JUPYTER",
   "package_manager":"pip",
   "base_environment":"default",
   "packages":[
    {
     "name":"shap",
     "version":"0.44.1",
     "source":"PIP"
    }
   ],
   "report_row_ids":[],
   "version":3
  }
 },
 "nbformat":4,
 "nbformat_minor":4
}