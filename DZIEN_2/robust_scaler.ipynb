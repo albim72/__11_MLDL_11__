{
 "cells":[
  {
   "cell_type":"code",
   "source":[
    "import numpy as np\n",
    "from sklearn.preprocessing import RobustScaler"
   ],
   "execution_count":1,
   "outputs":[],
   "metadata":{
    "datalore":{
     "node_id":"ngO8VE8bAA6OGiOwH75DdS",
     "type":"CODE",
     "hide_input_from_viewers":true,
     "hide_output_from_viewers":true
    }
   }
  },
  {
   "cell_type":"code",
   "source":[
    "#przygotowanie danych\n",
    "X = np.array([\n",
    "    [1.0,200.0],\n",
    "    [2.0,300.0],\n",
    "    [3.0,400.0],\n",
    "    [4.0,500.0],\n",
    "    [5.0,600.0],\n",
    "    [100.0,10000.0]\n",
    "])"
   ],
   "execution_count":8,
   "outputs":[],
   "metadata":{
    "datalore":{
     "node_id":"2BwOyKd8UtiVV8pPodUOGX",
     "type":"CODE",
     "hide_input_from_viewers":true,
     "hide_output_from_viewers":true
    }
   }
  },
  {
   "cell_type":"code",
   "source":[
    "scaler = RobustScaler()"
   ],
   "execution_count":9,
   "outputs":[],
   "metadata":{
    "datalore":{
     "node_id":"WtD9lcFTgP7SzfwQykzayC",
     "type":"CODE",
     "hide_input_from_viewers":true,
     "hide_output_from_viewers":true
    }
   }
  },
  {
   "cell_type":"code",
   "source":[
    "x_scaled = scaler.fit_transform(X)"
   ],
   "execution_count":10,
   "outputs":[],
   "metadata":{
    "datalore":{
     "node_id":"USjhiX1OVEsursHcQNjNeZ",
     "type":"CODE",
     "hide_input_from_viewers":true,
     "hide_output_from_viewers":true
    }
   }
  },
  {
   "cell_type":"code",
   "source":[
    "print(f\"oryginalne dany:\\n{X}\")"
   ],
   "execution_count":11,
   "outputs":[
    {
     "name":"stdout",
     "text":[
      "oryginalne dany:\n",
      "[[1.e+00 2.e+02]\n",
      " [2.e+00 3.e+02]\n",
      " [3.e+00 4.e+02]\n",
      " [4.e+00 5.e+02]\n",
      " [5.e+00 6.e+02]\n",
      " [1.e+02 1.e+04]]\n"
     ],
     "output_type":"stream"
    }
   ],
   "metadata":{
    "datalore":{
     "node_id":"77rp1QTFwAytCX633iNrVl",
     "type":"CODE",
     "hide_input_from_viewers":true,
     "hide_output_from_viewers":true
    }
   }
  },
  {
   "cell_type":"code",
   "source":[
    "print(f\"\\nznormalizowane dane: {x_scaled}\")"
   ],
   "execution_count":12,
   "outputs":[
    {
     "name":"stdout",
     "text":[
      "\n",
      "znormalizowane dane: [[-1.  -1. ]\n",
      " [-0.6 -0.6]\n",
      " [-0.2 -0.2]\n",
      " [ 0.2  0.2]\n",
      " [ 0.6  0.6]\n",
      " [38.6 38.2]]\n"
     ],
     "output_type":"stream"
    }
   ],
   "metadata":{
    "datalore":{
     "node_id":"EmDlebedARyC9377Rk5KQG",
     "type":"CODE",
     "hide_input_from_viewers":true,
     "hide_output_from_viewers":true
    }
   }
  }
 ],
 "metadata":{
  "kernelspec":{
   "display_name":"Python",
   "language":"python",
   "name":"python"
  },
  "datalore":{
   "computation_mode":"JUPYTER",
   "package_manager":"pip",
   "base_environment":"default",
   "packages":[],
   "report_row_ids":[],
   "version":3
  }
 },
 "nbformat":4,
 "nbformat_minor":4
}