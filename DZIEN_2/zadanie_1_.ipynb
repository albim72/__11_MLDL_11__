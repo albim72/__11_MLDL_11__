{
 "cells":[
  {
   "cell_type":"code",
   "source":[
    "import numpy as np\n",
    "import pandas as pd\n",
    "import matplotlib.pyplot as plt"
   ],
   "execution_count":1,
   "outputs":[],
   "metadata":{
    "datalore":{
     "node_id":"FnNzH9qrDp3aFGMQNy8XKn",
     "type":"CODE",
     "hide_input_from_viewers":true,
     "hide_output_from_viewers":true
    }
   }
  },
  {
   "cell_type":"code",
   "source":[
    "# 1. Generowanie danych\n",
    "np.random.seed(42)  # Ustawienie ziarna losowego dla powtarzalności\n",
    "kategorie = [\"Żywność\", \"Mieszkanie\", \"Transport\", \"Rozrywka\", \"Inne\"]\n",
    "miesiace = [\n",
    "    \"Styczeń\", \"Luty\", \"Marzec\", \"Kwiecień\", \"Maj\", \"Czerwiec\",\n",
    "    \"Lipiec\", \"Sierpień\", \"Wrzesień\", \"Październik\", \"Listopad\", \"Grudzień\"\n",
    "]"
   ],
   "execution_count":2,
   "outputs":[],
   "metadata":{
    "datalore":{
     "node_id":"wloW6RZiCtg8WWFtf6E2dK",
     "type":"CODE",
     "hide_input_from_viewers":true,
     "hide_output_from_viewers":true
    }
   }
  },
  {
   "cell_type":"code",
   "source":[
    "# Wydatki losowe dla każdej kategorii w każdym miesiącu (wartości w przedziale 1000 - 5000)\n",
    "wydatki = np.random.randint(1000, 5000, (12, len(kategorie)))"
   ],
   "execution_count":3,
   "outputs":[],
   "metadata":{
    "datalore":{
     "node_id":"u9EJZaKiV4UCIxnHlzAeT6",
     "type":"CODE",
     "hide_input_from_viewers":true,
     "hide_output_from_viewers":true
    }
   }
  },
  {
   "cell_type":"code",
   "source":[
    "# 2. Tworzenie DataFrame\n",
    "df = pd.DataFrame(wydatki, columns=kategorie, index=miesiace)"
   ],
   "execution_count":4,
   "outputs":[],
   "metadata":{
    "datalore":{
     "node_id":"n6FA7kf90DB5iJhaKE1YEO",
     "type":"CODE",
     "hide_input_from_viewers":true,
     "hide_output_from_viewers":true
    }
   }
  },
  {
   "cell_type":"code",
   "source":[
    "df.head()"
   ],
   "execution_count":5,
   "outputs":[
    {
     "data":{
      "text\/html":[
       "<div>\n",
       "<style scoped>\n",
       "    .dataframe tbody tr th:only-of-type {\n",
       "        vertical-align: middle;\n",
       "    }\n",
       "\n",
       "    .dataframe tbody tr th {\n",
       "        vertical-align: top;\n",
       "    }\n",
       "\n",
       "    .dataframe thead th {\n",
       "        text-align: right;\n",
       "    }\n",
       "<\/style>\n",
       "<table border=\"1\" class=\"dataframe\">\n",
       "  <thead>\n",
       "    <tr style=\"text-align: right;\">\n",
       "      <th><\/th>\n",
       "      <th>Żywność<\/th>\n",
       "      <th>Mieszkanie<\/th>\n",
       "      <th>Transport<\/th>\n",
       "      <th>Rozrywka<\/th>\n",
       "      <th>Inne<\/th>\n",
       "    <\/tr>\n",
       "  <\/thead>\n",
       "  <tbody>\n",
       "    <tr>\n",
       "      <th>Styczeń<\/th>\n",
       "      <td>4174<\/td>\n",
       "      <td>4507<\/td>\n",
       "      <td>1860<\/td>\n",
       "      <td>2294<\/td>\n",
       "      <td>2130<\/td>\n",
       "    <\/tr>\n",
       "    <tr>\n",
       "      <th>Luty<\/th>\n",
       "      <td>2095<\/td>\n",
       "      <td>4772<\/td>\n",
       "      <td>4092<\/td>\n",
       "      <td>2638<\/td>\n",
       "      <td>3169<\/td>\n",
       "    <\/tr>\n",
       "    <tr>\n",
       "      <th>Marzec<\/th>\n",
       "      <td>1466<\/td>\n",
       "      <td>2238<\/td>\n",
       "      <td>1330<\/td>\n",
       "      <td>2482<\/td>\n",
       "      <td>3135<\/td>\n",
       "    <\/tr>\n",
       "    <tr>\n",
       "      <th>Kwiecień<\/th>\n",
       "      <td>4444<\/td>\n",
       "      <td>4171<\/td>\n",
       "      <td>3919<\/td>\n",
       "      <td>4735<\/td>\n",
       "      <td>1130<\/td>\n",
       "    <\/tr>\n",
       "    <tr>\n",
       "      <th>Maj<\/th>\n",
       "      <td>2685<\/td>\n",
       "      <td>4380<\/td>\n",
       "      <td>1769<\/td>\n",
       "      <td>3391<\/td>\n",
       "      <td>2515<\/td>\n",
       "    <\/tr>\n",
       "  <\/tbody>\n",
       "<\/table>\n",
       "<\/div>"
      ]
     },
     "metadata":{},
     "output_type":"display_data"
    }
   ],
   "metadata":{
    "datalore":{
     "node_id":"KKVordALIffyxDF5kowYlB",
     "type":"CODE",
     "hide_input_from_viewers":true,
     "hide_output_from_viewers":true
    }
   }
  },
  {
   "cell_type":"code",
   "source":[
    "# 3. Analiza danych\n",
    "# Całkowite wydatki na każdą kategorię w skali roku\n",
    "calkowite_wydatki = df.sum()\n",
    "\n",
    "# Średnie wydatki miesięczne na każdą kategorię\n",
    "srednie_miesieczne_wydatki = df.mean()\n",
    "\n",
    "# Miesiąc z najwyższymi wydatkami ogółem\n",
    "miesiac_z_najwyzszymi_wydatkami = df.sum(axis=1).idxmax()"
   ],
   "execution_count":6,
   "outputs":[],
   "metadata":{
    "datalore":{
     "node_id":"peizEZaTmGI7Q3eBG33PxA",
     "type":"CODE",
     "hide_input_from_viewers":true,
     "hide_output_from_viewers":true
    }
   }
  },
  {
   "cell_type":"code",
   "source":[
    "# Wyświetlanie wyników\n",
    "print(\"Całkowite wydatki na każdą kategorię w skali roku:\")\n",
    "print(calkowite_wydatki)\n",
    "print(\"\\nŚrednie wydatki miesięczne na każdą kategorię:\")\n",
    "print(srednie_miesieczne_wydatki)\n",
    "print(f\"\\nMiesiąc z najwyższymi wydatkami ogółem: {miesiac_z_najwyzszymi_wydatkami}\")"
   ],
   "execution_count":7,
   "outputs":[
    {
     "name":"stdout",
     "text":[
      "Całkowite wydatki na każdą kategorię w skali roku:\n",
      "Żywność       37803\n",
      "Mieszkanie    41269\n",
      "Transport     33415\n",
      "Rozrywka      38109\n",
      "Inne          34275\n",
      "dtype: int64\n",
      "\n",
      "Średnie wydatki miesięczne na każdą kategorię:\n",
      "Żywność       3150.250000\n",
      "Mieszkanie    3439.083333\n",
      "Transport     2784.583333\n",
      "Rozrywka      3175.750000\n",
      "Inne          2856.250000\n",
      "dtype: float64\n",
      "\n",
      "Miesiąc z najwyższymi wydatkami ogółem: Kwiecień\n"
     ],
     "output_type":"stream"
    }
   ],
   "metadata":{
    "datalore":{
     "node_id":"Zl90kUn0IzTEjoF5449zKG",
     "type":"CODE",
     "hide_input_from_viewers":true,
     "hide_output_from_viewers":true
    }
   }
  },
  {
   "cell_type":"code",
   "source":[
    "# 4. Wizualizacja danych\n",
    "df.plot(kind='bar', stacked=True, figsize=(10, 6))\n",
    "plt.title(\"Wydatki w poszczególnych kategoriach w 2023 roku\")\n",
    "plt.xlabel(\"Miesiące\")\n",
    "plt.ylabel(\"Wydatki (PLN)\")\n",
    "plt.legend(title=\"Kategorie\")\n",
    "plt.tight_layout()\n",
    "plt.show()"
   ],
   "execution_count":7,
   "outputs":[
    {
     "data":{
      "image\/png":"[encoded data removed]"
     },
     "metadata":{
      "image\/png":{}
     },
     "output_type":"display_data"
    }
   ],
   "metadata":{
    "datalore":{
     "node_id":"lPngToqEUhXlpTNqE3OKVP",
     "type":"CODE",
     "hide_input_from_viewers":true,
     "hide_output_from_viewers":true
    }
   }
  }
 ],
 "metadata":{
  "kernelspec":{
   "display_name":"Python",
   "language":"python",
   "name":"python"
  },
  "datalore":{
   "computation_mode":"JUPYTER",
   "package_manager":"pip",
   "base_environment":"default",
   "packages":[],
   "report_row_ids":[],
   "version":3
  }
 },
 "nbformat":4,
 "nbformat_minor":4
}