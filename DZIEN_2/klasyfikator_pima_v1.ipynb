{
 "cells":[
  {
   "cell_type":"code",
   "source":[
    "import pandas as pd\n",
    "from sklearn.tree import DecisionTreeClassifier\n",
    "from sklearn.model_selection import train_test_split\n",
    "from sklearn import metrics"
   ],
   "execution_count":1,
   "outputs":[],
   "metadata":{
    "datalore":{
     "node_id":"3S0zEma3HoVflhpn3HQXNv",
     "type":"CODE",
     "hide_input_from_viewers":true,
     "hide_output_from_viewers":true
    }
   }
  },
  {
   "cell_type":"code",
   "source":[
    "col_names = ['pregnant','glucose','bp','skin','insulin','bmi','pedigree','age','label']"
   ],
   "execution_count":2,
   "outputs":[],
   "metadata":{
    "datalore":{
     "node_id":"YZxbScatwK2n0LQFkIl1e6",
     "type":"CODE",
     "hide_input_from_viewers":true,
     "hide_output_from_viewers":true
    }
   }
  },
  {
   "cell_type":"code",
   "source":[
    "pima = pd.read_csv('diabetes.csv',header=None,names=col_names)\n",
    "print(pima.head())"
   ],
   "execution_count":3,
   "outputs":[
    {
     "name":"stdout",
     "text":[
      "   pregnant  glucose  bp  skin  insulin   bmi  pedigree  age  label\n",
      "0         6      148  72    35        0  33.6     0.627   50      1\n",
      "1         1       85  66    29        0  26.6     0.351   31      0\n",
      "2         8      183  64     0        0  23.3     0.672   32      1\n",
      "3         1       89  66    23       94  28.1     0.167   21      0\n",
      "4         0      137  40    35      168  43.1     2.288   33      1\n"
     ],
     "output_type":"stream"
    }
   ],
   "metadata":{
    "datalore":{
     "node_id":"IjOFndc8c1aGMvPW1x6EzO",
     "type":"CODE",
     "hide_input_from_viewers":true,
     "hide_output_from_viewers":true
    }
   }
  }
 ],
 "metadata":{
  "kernelspec":{
   "display_name":"Python",
   "language":"python",
   "name":"python"
  },
  "datalore":{
   "computation_mode":"JUPYTER",
   "package_manager":"pip",
   "base_environment":"default",
   "packages":[],
   "report_row_ids":[],
   "version":3
  }
 },
 "nbformat":4,
 "nbformat_minor":4
}